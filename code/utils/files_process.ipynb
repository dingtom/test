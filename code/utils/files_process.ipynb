{
 "cells": [
  {
   "cell_type": "markdown",
   "metadata": {},
   "source": [
    "# 20181112\n",
    "Room-1\n",
    "Motion: 1: Draw-1; 2: Draw-2; 3: Draw-3; 4: Draw-4; 5: Draw-5; 6: Draw-6; 7: Draw-7; 8: Draw-8; 9: Draw-9; 0: Draw-0;\n",
    "Tx-Rx Location(meter): Tx(0, 0) Rx_1(0.455, -0.455) Rx_2(1.365, -0.455) Rx_3(2.0, 0) Rx_4(-0.455, 0.455) Rx_5(-0.455, 1.365) Rx_6(0, 2.0)\n",
    "Torso Location(meter): 1(1.365, 0.455) 2(0.455, 0.455) 3(0.455, 1.365) 4(1.365, 1.365) 5(0.91, 0.91)\n",
    "​\n",
    "# 20181116\n",
    "Room-1\n",
    "Motion: 1: Draw-1; 2: Draw-2; 3: Draw-3; 4: Draw-4; 5: Draw-5; 6: Draw-6; 7: Draw-7; 8: Draw-8; 9: Draw-9; 0: Draw-0;\n",
    "Tx-Rx Location(meter): Tx(0, 0) Rx_1(0.455, -0.455) Rx_2(1.365, -0.455) Rx_3(2.0, 0) Rx_4(-0.455, 0.455) Rx_5(-0.455, 1.365) Rx_6(0, 2.0)\n",
    "Torso Location(meter): 1(1.365, 0.455) 2(0.455, 0.455) 3(0.455, 1.365) 4(1.365, 1.365) 5(0.91, 0.91)"
   ]
  },
  {
   "cell_type": "code",
   "execution_count": 1,
   "metadata": {},
   "outputs": [],
   "source": [
    "import os  \n",
    "import shutil \n",
    "import random  \n",
    "import re\n",
    "from tqdm import tqdm\n",
    "import threading\n",
    "from extract_csi import get_scaled_csi, extract_csi\n",
    "import scipy.signal as signal\n",
    "import scipy.io as scio\n",
    "import numpy as np"
   ]
  },
  {
   "cell_type": "markdown",
   "metadata": {},
   "source": [
    "# 给文件添加label"
   ]
  },
  {
   "cell_type": "code",
   "execution_count": 16,
   "metadata": {},
   "outputs": [],
   "source": [
    "# for f in os.listdir('/home/zut_csi/tomding/RCNN/data_gait/room1/1'):\n",
    "#     # '/home/zut_csi/tomding/RCNN/data_qinghua/20181112/user2'):\n",
    "#     if f.endswith('.dat'): # 文件\n",
    "#         with open(os.path.join('/home/zut_csi/tomding/RCNN/data_processed', f.replace('dat', 'txt')), 'w') as w:\n",
    "#             w.write(re.findall(re.compile(r'user.*-(.*?)-.*dat', re.S), f)[0])\n",
    "#                                           #user2-(.*?)-.*-.*-*-r.*', re.S), f)[0])\n",
    "\n",
    "path = '/home/zut_csi/tomding/RCNN/data_processed/all'\n",
    "for f in os.listdir(path):\n",
    "    # '/home/zut_csi/tomding/RCNN/data_qinghua/20181112/user2'):\n",
    "    if f.endswith('.mat'): # 文件\n",
    "        with open(os.path.join(path, f.replace('mat', 'txt')), 'w') as w:\n",
    "            w.write(re.findall(re.compile(r'.*user.*-(.*?)-.*-r.*', re.S), f)[0])\n",
    "                                          #user2-(.*?)-.*-.*-*-r.*', re.S), f)[0])"
   ]
  },
  {
   "cell_type": "markdown",
   "metadata": {},
   "source": [
    "#  文件重命名"
   ]
  },
  {
   "cell_type": "code",
   "execution_count": 10,
   "metadata": {},
   "outputs": [],
   "source": [
    "#     os.remove(os.path.join(src_path,i))   os.rename(srcFile,dstFile)\n",
    "# import os,shutil\n",
    "#     shutil.move     shutil.copy(source, target)\n",
    "path = '/home/zut_csi/tomding/RCNN/data_gait/all'\n",
    "for i in os.listdir(path):\n",
    "    if not i.startswith('room'):\n",
    "        os.rename(os.path.join(path, i), os.path.join(path, 'room1-'+i))\n",
    "#     if i.startswith('room'):\n",
    "#         os.rename(os.path.join(path, i), os.path.join(path, i.replace('room1-', '')))"
   ]
  },
  {
   "cell_type": "markdown",
   "metadata": {},
   "source": [
    "# 根据天线整理数据"
   ]
  },
  {
   "cell_type": "code",
   "execution_count": 22,
   "metadata": {},
   "outputs": [],
   "source": [
    "path = r'/home/zut_csi/tomding/RCNN/data_processed/all/'\n",
    "for f in os.listdir(path):\n",
    "    if f.endswith('.mat') or f.endswith('.txt'):\n",
    "        #print(f)\n",
    "        rx = re.findall(re.compile('user.*-.*-.*-r(.*?)\\..*', re.S), f)[0]\n",
    "        #print(rx)\n",
    "        shutil.move(os.path.join(path, f), \n",
    "                    os.path.join(path, str(rx), f))\n",
    "# X_train = process_data(train_raw_file_path, train_save_path)\n",
    "# test_raw_file_path = r'/content/drive/My Drive/SR_CSI/Gestures_data/test'"
   ]
  },
  {
   "cell_type": "code",
   "execution_count": 3,
   "metadata": {},
   "outputs": [],
   "source": [
    "# path = r'/home/zut_csi/tomding/RCNN/data_gait/room1'\n",
    "# for f in os.listdir(path):\n",
    "#     if f.endswith('.dat'):\n",
    "#         #print(f)\n",
    "#         rx = re.findall(re.compile('user.*-.*-.*-r(.*?)\\.dat', re.S), f)[0]\n",
    "#         #print(rx)\n",
    "#         shutil.move(os.path.join(path, f), \n",
    "#                     os.path.join(path, str(rx), f))\n",
    "# # X_train = process_data(train_raw_file_path, train_save_path)\n",
    "# # test_raw_file_path = r'/content/drive/My Drive/SR_CSI/Gestures_data/test'"
   ]
  },
  {
   "cell_type": "code",
   "execution_count": 4,
   "metadata": {},
   "outputs": [
    {
     "data": {
      "text/plain": [
       "19889"
      ]
     },
     "execution_count": 4,
     "metadata": {},
     "output_type": "execute_result"
    }
   ],
   "source": [
    "3317+3315+3318+3313+3313+3313"
   ]
  },
  {
   "cell_type": "markdown",
   "metadata": {},
   "source": [
    "# 随机划分训练集测试集"
   ]
  },
  {
   "cell_type": "code",
   "execution_count": 5,
   "metadata": {},
   "outputs": [],
   "source": [
    "# id-a-b-c-d-rx.dat\n",
    "# 'id' represents user's id,    2\n",
    "# 'a' represents room id,        1-10\n",
    "# 'b' represents position id,     1-5\n",
    "# 'c' represents orientation id,   1-5\n",
    "# 'd' represents instance id,       1-10\n",
    "# 'rx' range between 'r1' and 'r6', corresponding to 6 receivers.   1-6\n",
    "\n",
    "# import os \n",
    "# import shutil\n",
    "# import random \n",
    "# file_list = os.listdir('/home/zut_csi/tomding/RCNN/data_qinghua/20181112/user2')\n",
    "# for f in file_list:\n",
    "#     if f.endswith('.dat'): # 文件\n",
    "#         # 随机选取部分作为测试\n",
    "#         rand = random.randint(1, 10)\n",
    "#         filename1 = os.path.splitext(f)[1]  # 读取文件后缀名\n",
    "#         filename0 = os.path.splitext(f)[0]  # 读取文件名\n",
    "#         m = filename1 == '.jpg'\n",
    "#         print(m)\n",
    "#         if m :\n",
    "#             full_path = os.path.join(path1, files)\n",
    "#             despath = path2 + filename0+'.jpg' #.jpg为你的文件类型，即后缀名，读者自行修改\n",
    "#             shutil.move(full_path, despath)\n",
    "\n",
    "#         else :\n",
    "#             continue"
   ]
  },
  {
   "cell_type": "markdown",
   "metadata": {},
   "source": [
    "# 提取CSI中想要的部分"
   ]
  },
  {
   "cell_type": "code",
   "execution_count": 12,
   "metadata": {},
   "outputs": [
    {
     "name": "stderr",
     "output_type": "stream",
     "text": [
      "100%|██████████| 22017/22017 [3:10:38<00:00,  1.92it/s]  \n",
      "100%|██████████| 22017/22017 [00:27<00:00, 801.42it/s] "
     ]
    },
    {
     "name": "stdout",
     "output_type": "stream",
     "text": [
      "-----------------------------------all raw file processed---------------------------------\n",
      "CPU times: user 3h 22min 30s, sys: 11min 10s, total: 3h 33min 41s\n",
      "Wall time: 3h 11min 6s\n"
     ]
    },
    {
     "name": "stderr",
     "output_type": "stream",
     "text": [
      "\n"
     ]
    }
   ],
   "source": [
    "%%time\n",
    "# 提取CSI中想要的部分\n",
    "def processor(raw_file_path, f, save_path):\n",
    "    file_name = os.path.join(raw_file_path, f)\n",
    "    extracted_data = extract_csi(file_name)\n",
    "    \n",
    "    # print('processing {} the length of this file is:{}'.format(file_name, len(extracted_data)))\n",
    "    try:\n",
    "        tx, rx, sub = extracted_data[0]['csi'].shape\n",
    "    except:\n",
    "        print(file_name, len(extracted_data))\n",
    "    data_csi = np.zeros((len(extracted_data), tx, rx, sub), dtype=np.complex64)\n",
    "    # qinghua (1938, 1, 3, 30)  ;    self\n",
    "    for i in range(len(extracted_data)):\n",
    "        data_csi[i] = get_scaled_csi(extracted_data[i])\n",
    "    data_csi = np.clip(np.abs(np.squeeze(data_csi)), 1e-8, 1e100).reshape(-1, tx*rx, 30)   \n",
    "    data = np.zeros((data_csi.shape[0], tx*rx))  # N*4\n",
    "    for ant in range(tx*rx):  # 每个天线对上的CSI变化趋势相同,为节约计算这里选择天线对即可\n",
    "        data_csi_ant = data_csi[:, ant, :]\n",
    "        b, a = signal.butter(5, 4*2/30, 'low')\n",
    "        var_max = 0\n",
    "        s_max = None\n",
    "        for s in range(30):\n",
    "            carrier_data = signal.lfilter(b, a, data_csi_ant[:, s])  # N*1\n",
    "            length = len(carrier_data)\n",
    "            var_temp = np.var(carrier_data[length//5:3*length//5])\n",
    "            if var_max < var_temp:\n",
    "                var_max = var_temp\n",
    "                s_max = carrier_data\n",
    "        data[:, ant] = s_max\n",
    "    scio.savemat(os.path.join(save_path, f.replace('dat', 'mat')), {'csi': data})\n",
    "\n",
    "\n",
    "raw_file_path, save_path = '/home/zut_csi/tomding/RCNN/data_gait/all', '/home/zut_csi/tomding/RCNN/data_processed/all'\n",
    "#'/home/zut_csi/tomding/RCNN/da', '/home/zut_csi/tomding/RCNN/d'\n",
    "X = {}\n",
    "thread_list= []\n",
    "for f in os.listdir(raw_file_path):             \n",
    "    if f.endswith('.dat'):\n",
    "        # X[f] = data\n",
    "        #processor(raw_file_path, f, save_path,)\n",
    "        t = threading.Thread(target=processor, args=(raw_file_path, f, save_path,))                              \n",
    "        t.setDaemon(True)  # 设置为守护线程                              \n",
    "        thread_list.append(t)\n",
    "    else:\n",
    "        pass\n",
    "for t in tqdm(thread_list):         \n",
    "    t.start()  # 启动线程     \n",
    "for t in tqdm(thread_list): \n",
    "    t.join()  # 等待子线程结束\n",
    "print('-----------------------------------all raw file processed---------------------------------')\n",
    "    # return X"
   ]
  },
  {
   "cell_type": "code",
   "execution_count": null,
   "metadata": {},
   "outputs": [],
   "source": []
  },
  {
   "cell_type": "code",
   "execution_count": null,
   "metadata": {},
   "outputs": [],
   "source": []
  }
 ],
 "metadata": {
  "kernelspec": {
   "display_name": "tomding",
   "language": "python",
   "name": "tomding"
  },
  "language_info": {
   "codemirror_mode": {
    "name": "ipython",
    "version": 3
   },
   "file_extension": ".py",
   "mimetype": "text/x-python",
   "name": "python",
   "nbconvert_exporter": "python",
   "pygments_lexer": "ipython3",
   "version": "3.8.6"
  },
  "latex_envs": {
   "LaTeX_envs_menu_present": true,
   "autoclose": false,
   "autocomplete": true,
   "bibliofile": "biblio.bib",
   "cite_by": "apalike",
   "current_citInitial": 1,
   "eqLabelWithNumbers": true,
   "eqNumInitial": 1,
   "hotkeys": {
    "equation": "Ctrl-E",
    "itemize": "Ctrl-I"
   },
   "labels_anchors": false,
   "latex_user_defs": false,
   "report_style_numbering": false,
   "user_envs_cfg": false
  },
  "toc": {
   "base_numbering": 1,
   "nav_menu": {},
   "number_sections": true,
   "sideBar": true,
   "skip_h1_title": false,
   "title_cell": "Table of Contents",
   "title_sidebar": "Contents",
   "toc_cell": false,
   "toc_position": {},
   "toc_section_display": true,
   "toc_window_display": true
  }
 },
 "nbformat": 4,
 "nbformat_minor": 4
}
