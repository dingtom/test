{
 "cells": [
  {
   "cell_type": "code",
   "execution_count": 1,
   "metadata": {},
   "outputs": [
    {
     "name": "stderr",
     "output_type": "stream",
     "text": [
      "100%|██████████| 3672/3672 [21:27<00:00,  2.85it/s]"
     ]
    },
    {
     "name": "stdout",
     "output_type": "stream",
     "text": [
      "3641\n",
      "CPU times: user 21min 22s, sys: 8.5 s, total: 21min 30s\n",
      "Wall time: 21min 27s\n"
     ]
    },
    {
     "name": "stderr",
     "output_type": "stream",
     "text": [
      "\n"
     ]
    }
   ],
   "source": [
    "%%time\n",
    "\n",
    "import os  \n",
    "import shutil \n",
    "import random  \n",
    "import re\n",
    "from tqdm import tqdm\n",
    "import threading\n",
    "from extract_csi import get_scaled_csi, extract_csi\n",
    "import scipy.signal as signal\n",
    "import scipy.io as scio\n",
    "import numpy as np\n",
    "# 提取CSI中想要的部分\n",
    "def processor(raw_file_path, f, save_path, max_file_len):\n",
    "    file_name = os.path.join(raw_file_path, f)\n",
    "    extracted_data = extract_csi(file_name)\n",
    "    \n",
    "    # print('processing {} the length of this file is:{}'.format(file_name, len(extracted_data)))\n",
    "    try:\n",
    "        tx, rx, sub = extracted_data[0]['csi'].shape\n",
    "    except:\n",
    "        print(file_name, len(extracted_data))\n",
    "    data_csi = np.zeros((max_file_len, tx, rx, sub), dtype=np.complex64)\n",
    "    # qinghua (1938, 1, 3, 30)  ;    self\n",
    "    for i in range(len(extracted_data)):\n",
    "        data_csi[i] = get_scaled_csi(extracted_data[i])\n",
    "    data_csi = np.clip(np.abs(data_csi), 1e-8, 1e100).reshape(-1, tx, rx, 30)\n",
    "    print(data_csi.shape)\n",
    "    # data = np.zeros((data_csi.shape[0], tx, rx))  # N*4\n",
    "#     for ant in range(tx, rx):  # 每个天线对上的CSI变化趋势相同,为节约计算这里选择天线对即可\n",
    "#         data_csi_ant = data_csi[:, ant, :]\n",
    "#         b, a = signal.butter(5, 4*2/30, 'low')\n",
    "#         var_max = 0\n",
    "#         s_max = None\n",
    "#         for s in range(30):\n",
    "#             carrier_data = signal.lfilter(b, a, data_csi_ant[:, s])  # N*1\n",
    "#             length = len(carrier_data)\n",
    "#             var_temp = np.var(carrier_data[length//5:3*length//5])\n",
    "#             if var_max < var_temp:\n",
    "#                 var_max = var_temp\n",
    "#                 s_max = carrier_data\n",
    "#         data[:, ant] = s_max\n",
    "#     scio.savemat(os.path.join(save_path, f.replace('dat', 'mat')), {'csi': data})\n",
    "\n",
    "\n",
    "raw_file_path, save_path = '/home/zut_csi/tomding/RCNN/data_gait/all/1', '/home/zut_csi/tomding/RCNN/data_processed/test'\n",
    "#'/home/zut_csi/tomding/RCNN/da', '/home/zut_csi/tomding/RCNN/d'\n",
    "X = {}\n",
    "thread_list= []\n",
    "max_file_len = 0\n",
    "for f in tqdm(os.listdir(raw_file_path)):             \n",
    "    if f.endswith('r1.dat'):\n",
    "        file_len = len(extract_csi(os.path.join(raw_file_path, f)))\n",
    "        if file_len > max_file_len:\n",
    "            max_file_len = file_len\n",
    "print(max_file_len)"
   ]
  },
  {
   "cell_type": "code",
   "execution_count": null,
   "metadata": {},
   "outputs": [],
   "source": [
    "%%time\n",
    "%%time\n",
    "# 提取CSI中想要的部分\n",
    "def processor(raw_file_path, f, save_path, max_file_len):\n",
    "    file_name = os.path.join(raw_file_path, f)\n",
    "    extracted_data = extract_csi(file_name)\n",
    "    \n",
    "    # print('processing {} the length of this file is:{}'.format(file_name, len(extracted_data)))\n",
    "    try:\n",
    "        tx, rx, sub = extracted_data[0]['csi'].shape\n",
    "    except:\n",
    "        print(file_name, len(extracted_data))\n",
    "    data_csi = np.zeros((max_file_len, tx, rx, sub), dtype=np.complex64)\n",
    "    # qinghua (1938, 1, 3, 30)  ;    self\n",
    "    for i in range(len(extracted_data)):\n",
    "        data_csi[i] = get_scaled_csi(extracted_data[i])\n",
    "    data_csi = np.clip(np.abs(data_csi), 1e-8, 1e100).transpose(1, 2, 3, 0)     \n",
    "    for r in range(rx):  # 每个天线对上的CSI变化趋势相同,为节约计算这里选择天线对即可\n",
    "        b, a = signal.butter(5, 4*2/30, 'low')\n",
    "        var_max = 0\n",
    "        for s in range(30):\n",
    "            data_csi[0, r, s, :] = signal.lfilter(b, a, data_csi[0, r, s, :])  # N*1\n",
    "    scio.savemat(os.path.join(save_path, f.replace('dat', 'mat')), {'csi': data_csi})\n",
    "\n",
    "\n",
    "raw_file_path, save_path = '/home/zut_csi/tomding/RCNN/data_gait/all/1', '/home/zut_csi/tomding/RCNN/data_processed/test'\n",
    "#'/home/zut_csi/tomding/RCNN/da', '/home/zut_csi/tomding/RCNN/d'\n",
    "X = {}\n",
    "thread_list= []\n",
    "max_file_len = 3641\n",
    "import multiprocessing\n",
    "# 多进程任务\n",
    "pool = multiprocessing.Pool(processes=8)\n",
    "result= []\n",
    "for f in tqdm(os.listdir(raw_file_path)):             \n",
    "    if f.endswith('r1.dat'):\n",
    "        result.append(pool.apply_async(processor, (raw_file_path, f, save_path, max_file_len, )))\n",
    "pool.close()\n",
    "print(1)\n",
    "pool.join()\n",
    "print(1)\n",
    "ans = [res.get() for res in result]\n",
    "print(ans)"
   ]
  },
  {
   "cell_type": "code",
   "execution_count": null,
   "metadata": {},
   "outputs": [],
   "source": []
  }
 ],
 "metadata": {
  "kernelspec": {
   "display_name": "tomding",
   "language": "python",
   "name": "tomding"
  },
  "language_info": {
   "codemirror_mode": {
    "name": "ipython",
    "version": 3
   },
   "file_extension": ".py",
   "mimetype": "text/x-python",
   "name": "python",
   "nbconvert_exporter": "python",
   "pygments_lexer": "ipython3",
   "version": "3.8.6"
  },
  "toc": {
   "base_numbering": 1,
   "nav_menu": {},
   "number_sections": true,
   "sideBar": true,
   "skip_h1_title": false,
   "title_cell": "Table of Contents",
   "title_sidebar": "Contents",
   "toc_cell": false,
   "toc_position": {},
   "toc_section_display": true,
   "toc_window_display": false
  }
 },
 "nbformat": 4,
 "nbformat_minor": 4
}
